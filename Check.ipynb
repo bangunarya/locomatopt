{
 "cells": [
  {
   "cell_type": "code",
   "execution_count": 1,
   "metadata": {},
   "outputs": [],
   "source": [
    "%matplotlib nbagg\n",
    "%load_ext autoreload\n",
    "%autoreload 2 "
   ]
  },
  {
   "cell_type": "code",
   "execution_count": 60,
   "metadata": {},
   "outputs": [],
   "source": [
    "import numpy as np\n",
    "import os\n",
    "from locomatoptpy.sampling import SpiralSampling, HammersleySampling, UniformRandom, PoleRandom\n",
    "from locomatoptpy.metric import params_matrix\n",
    "from locomatoptpy.gradientdescent import GradDescent\n",
    "from locomatoptpy.adam import Adam\n",
    "from locomatoptpy.adagrad import AdaGrad\n",
    "from locomatoptpy.adadelta import AdaDelta\n",
    "from locomatoptpy.auglmethod import ALM\n",
    "from locomatoptpy.matrix import MatrixSH, MatrixWigner, MatrixSNF\n",
    "from locomatoptpy.metric import coherence\n",
    "from numpy import linalg as LA\n",
    "from typing import Tuple, Optional, Union, List\n",
    "\n"
   ]
  },
  {
   "cell_type": "markdown",
   "metadata": {},
   "source": [
    "# Spiral SH"
   ]
  },
  {
   "cell_type": "code",
   "execution_count": 3,
   "metadata": {},
   "outputs": [],
   "source": [
    "## Bandwidth\n",
    "B = 10\n",
    "\n",
    "## Antenna or normal expansion\n",
    "case = 'normal'\n",
    "\n",
    "## Sphere or Rotation Group\n",
    "types = 'sh'\n",
    "## Generate dimension\n",
    "N, col_comb = params_matrix(types = types, B = B, case = case)\n",
    " \n",
    "## Generate sampling points\n",
    "m = 70\n",
    "\n",
    "## Matrix Parameters\n",
    "params_mat = {'B':B, 'N':N, 'types':types,\n",
    "            'col_comb':col_comb, 'case':case}\n",
    "p = 9\n",
    "## Gradient Parameters\n",
    "params_grad = {'max_iter':  100 , 'eps': 1e-6,\n",
    "            'update': 'update_all', 'p_norm': p}\n"
   ]
  },
  {
   "cell_type": "code",
   "execution_count": 4,
   "metadata": {},
   "outputs": [],
   "source": [
    "spiral = SpiralSampling(m = m, basis = types) # Wigner polar should random\n",
    "angles = spiral.generate_angles()"
   ]
  },
  {
   "cell_type": "code",
   "execution_count": 9,
   "metadata": {},
   "outputs": [],
   "source": [
    "import scipy.io as sio"
   ]
  },
  {
   "cell_type": "code",
   "execution_count": 12,
   "metadata": {},
   "outputs": [],
   "source": [
    "path = os.path.join(os.getcwd(),'tests/test_matrix.mat')"
   ]
  },
  {
   "cell_type": "code",
   "execution_count": 13,
   "metadata": {},
   "outputs": [],
   "source": [
    "mat_contents = sio.loadmat(path)"
   ]
  },
  {
   "cell_type": "code",
   "execution_count": 25,
   "metadata": {},
   "outputs": [],
   "source": [
    "mat_SH_matlab = mat_contents['SH_spiral_70']"
   ]
  },
  {
   "cell_type": "code",
   "execution_count": 17,
   "metadata": {},
   "outputs": [],
   "source": [
    "mat_sh = MatrixSH(B=B, angles=angles,\n",
    "                          case=case)"
   ]
  },
  {
   "cell_type": "code",
   "execution_count": 29,
   "metadata": {},
   "outputs": [
    {
     "data": {
      "text/plain": [
       "True"
      ]
     },
     "execution_count": 29,
     "metadata": {},
     "output_type": "execute_result"
    }
   ],
   "source": [
    "np.allclose(mat_sh.A,mat_SH_matlab)"
   ]
  },
  {
   "cell_type": "markdown",
   "metadata": {},
   "source": [
    "## Wigner Spiral"
   ]
  },
  {
   "cell_type": "code",
   "execution_count": 30,
   "metadata": {},
   "outputs": [],
   "source": [
    "## Bandwidth\n",
    "B = 4\n",
    "\n",
    "## Antenna or normal expansion\n",
    "case = 'normal'\n",
    "\n",
    "## Sphere or Rotation Group\n",
    "types = 'wigner'\n",
    "## Generate dimension\n",
    "N, col_comb = params_matrix(types = types, B = B, case = case)\n",
    " \n",
    "## Generate sampling points\n",
    "m = 70\n",
    "\n",
    "## Matrix Parameters\n",
    "params_mat = {'B':B, 'N':N, 'types':types,\n",
    "            'col_comb':col_comb, 'case':case}\n",
    "p = 9\n",
    "## Gradient Parameters\n",
    "params_grad = {'max_iter':  100 , 'eps': 1e-6,\n",
    "            'update': 'update_all', 'p_norm': p}\n"
   ]
  },
  {
   "cell_type": "code",
   "execution_count": 32,
   "metadata": {},
   "outputs": [],
   "source": [
    "spiral = SpiralSampling(m = m, basis = types) # Wigner polar should random\n",
    "angles = spiral.generate_angles()"
   ]
  },
  {
   "cell_type": "code",
   "execution_count": 33,
   "metadata": {},
   "outputs": [],
   "source": [
    "mat_wigner = MatrixWigner(B=B, angles=angles,\n",
    "                          case=case)"
   ]
  },
  {
   "cell_type": "code",
   "execution_count": 37,
   "metadata": {},
   "outputs": [],
   "source": [
    "mat_Wigner_matlab = mat_contents['Wigner_spiral']"
   ]
  },
  {
   "cell_type": "code",
   "execution_count": 39,
   "metadata": {},
   "outputs": [
    {
     "data": {
      "text/plain": [
       "True"
      ]
     },
     "execution_count": 39,
     "metadata": {},
     "output_type": "execute_result"
    }
   ],
   "source": [
    "np.allclose(mat_wigner.A, mat_Wigner_matlab)"
   ]
  },
  {
   "cell_type": "markdown",
   "metadata": {},
   "source": [
    "## Wigner SNF Spiral"
   ]
  },
  {
   "cell_type": "code",
   "execution_count": 46,
   "metadata": {},
   "outputs": [],
   "source": [
    "## Bandwidth\n",
    "B = 10\n",
    "\n",
    "## Antenna or normal expansion\n",
    "case = 'normal'\n",
    "\n",
    "## Sphere or Rotation Group\n",
    "types = 'snf'\n",
    "## Generate dimension\n",
    "N, col_comb = params_matrix(types = types, B = B, case = case)\n",
    " \n",
    "## Generate sampling points\n",
    "m = 70\n",
    "\n",
    "## Matrix Parameters\n",
    "params_mat = {'B':B, 'N':N, 'types':types,\n",
    "            'col_comb':col_comb, 'case':case}\n",
    "p = 9\n",
    "## Gradient Parameters\n",
    "params_grad = {'max_iter':  100 , 'eps': 1e-6,\n",
    "            'update': 'update_all', 'p_norm': p}\n"
   ]
  },
  {
   "cell_type": "code",
   "execution_count": 51,
   "metadata": {},
   "outputs": [],
   "source": [
    "spiral = SpiralSampling(m = m, basis = types) # Wigner polar should random\n",
    "angles = spiral.generate_angles()"
   ]
  },
  {
   "cell_type": "code",
   "execution_count": 53,
   "metadata": {},
   "outputs": [],
   "source": [
    "mat_snf = MatrixSNF(B=B, angles=angles,\n",
    "                    case=case)"
   ]
  },
  {
   "cell_type": "code",
   "execution_count": 55,
   "metadata": {},
   "outputs": [],
   "source": [
    "mat_WignerSNF_matlab = mat_contents['Wigner_SNF']"
   ]
  },
  {
   "cell_type": "code",
   "execution_count": 56,
   "metadata": {},
   "outputs": [
    {
     "data": {
      "text/plain": [
       "True"
      ]
     },
     "execution_count": 56,
     "metadata": {},
     "output_type": "execute_result"
    }
   ],
   "source": [
    "np.allclose(mat_snf.A, mat_WignerSNF_matlab)"
   ]
  },
  {
   "cell_type": "markdown",
   "metadata": {},
   "source": [
    "## Hammersley SH"
   ]
  },
  {
   "cell_type": "code",
   "execution_count": 73,
   "metadata": {},
   "outputs": [],
   "source": [
    "## Bandwidth\n",
    "B = 10\n",
    "\n",
    "## Antenna or normal expansion\n",
    "case = 'normal'\n",
    "\n",
    "## Sphere or Rotation Group\n",
    "types = 'sh'\n",
    "## Generate dimension\n",
    "N, col_comb = params_matrix(types = types, B = B, case = case)\n",
    " \n",
    "## Generate sampling points\n",
    "m = 70\n",
    "\n",
    "## Matrix Parameters\n",
    "params_mat = {'B':B, 'N':N, 'types':types,\n",
    "            'col_comb':col_comb, 'case':case}\n",
    "p = 9\n",
    "## Gradient Parameters\n",
    "params_grad = {'max_iter':  100 , 'eps': 1e-6,\n",
    "            'update': 'update_all', 'p_norm': p}\n"
   ]
  },
  {
   "cell_type": "code",
   "execution_count": 74,
   "metadata": {},
   "outputs": [],
   "source": [
    "hammersley = HammersleySampling(m = m, basis = types) # Wigner polar should random\n",
    "angles = hammersley.generate_angles()"
   ]
  },
  {
   "cell_type": "code",
   "execution_count": 84,
   "metadata": {},
   "outputs": [],
   "source": [
    "angles['theta'] = mat_contents['ang_hammersley_chi'][:,0]\n",
    "angles['phi'] = mat_contents['ang_hammersley_chi'][:,1]"
   ]
  },
  {
   "cell_type": "code",
   "execution_count": 85,
   "metadata": {},
   "outputs": [],
   "source": [
    "mat_sh_ham = MatrixSH(B=B, angles=angles,\n",
    "                          case=case)"
   ]
  },
  {
   "cell_type": "code",
   "execution_count": 86,
   "metadata": {},
   "outputs": [],
   "source": [
    "mat_sh_matlab_hamm = mat_contents['SH_hammers']"
   ]
  },
  {
   "cell_type": "code",
   "execution_count": 87,
   "metadata": {},
   "outputs": [
    {
     "data": {
      "text/plain": [
       "True"
      ]
     },
     "execution_count": 87,
     "metadata": {},
     "output_type": "execute_result"
    }
   ],
   "source": [
    "np.allclose(mat_sh_ham.A,mat_sh_matlab_hamm)"
   ]
  },
  {
   "cell_type": "code",
   "execution_count": null,
   "metadata": {},
   "outputs": [],
   "source": []
  }
 ],
 "metadata": {
  "kernelspec": {
   "display_name": "Python 3",
   "language": "python",
   "name": "python3"
  },
  "language_info": {
   "codemirror_mode": {
    "name": "ipython",
    "version": 3
   },
   "file_extension": ".py",
   "mimetype": "text/x-python",
   "name": "python",
   "nbconvert_exporter": "python",
   "pygments_lexer": "ipython3",
   "version": "3.8.10"
  }
 },
 "nbformat": 4,
 "nbformat_minor": 5
}
