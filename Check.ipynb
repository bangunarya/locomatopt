{
 "cells": [
  {
   "cell_type": "code",
   "execution_count": 2,
   "id": "b7bf29d3",
   "metadata": {},
   "outputs": [
    {
     "name": "stdout",
     "output_type": "stream",
     "text": [
      "The autoreload extension is already loaded. To reload it, use:\n",
      "  %reload_ext autoreload\n"
     ]
    }
   ],
   "source": [
    "%matplotlib nbagg\n",
    "%load_ext autoreload\n",
    "%autoreload 2 "
   ]
  },
  {
   "cell_type": "code",
   "execution_count": 3,
   "id": "5b31b229",
   "metadata": {},
   "outputs": [],
   "source": [
    "import numpy as np\n",
    "import os\n",
    "from locomatoptpy.sampling import SpiralSampling, UniformRandom, PoleRandom\n",
    "from locomatoptpy.metric import params_matrix\n",
    "from locomatoptpy.gradientdescent import GradDescent\n",
    "from locomatoptpy.adam import Adam\n",
    "from locomatoptpy.adagrad import AdaGrad\n",
    "from locomatoptpy.adadelta import AdaDelta\n",
    "from locomatoptpy.auglmethod import ALM\n",
    "from locomatoptpy.matrix import MatrixSH, MatrixWigner, MatrixSNF\n",
    "from locomatoptpy.metric import coherence\n",
    "from numpy import linalg as LA\n",
    "from typing import Tuple, Optional, Union, List\n",
    "\n"
   ]
  },
  {
   "cell_type": "code",
   "execution_count": 4,
   "id": "868e9159",
   "metadata": {},
   "outputs": [],
   "source": [
    "## Bandwidth\n",
    "B = 4\n",
    "\n",
    "## Antenna or normal expansion\n",
    "case = 'antenna'\n",
    "\n",
    "## Sphere or Rotation Group\n",
    "types = 'wigner'\n",
    "## Generate dimension\n",
    "N, col_comb = params_matrix(types = types, B = B, case = case)\n",
    " \n",
    "## Generate sampling points\n",
    "m = 70\n",
    "\n",
    "## Matrix Parameters\n",
    "params_mat = {'B':B, 'N':N, 'types':types,\n",
    "            'col_comb':col_comb, 'case':case}\n",
    "p = 9\n",
    "## Gradient Parameters\n",
    "params_grad = {'max_iter':  100 , 'eps': 1e-6,\n",
    "            'update': 'update_all', 'p_norm': p}\n"
   ]
  },
  {
   "cell_type": "code",
   "execution_count": 18,
   "id": "b49c99c9",
   "metadata": {},
   "outputs": [],
   "source": [
    "unif_rand = UniformRandom(m = m, polar = 'none') # Wigner polar should random\n"
   ]
  },
  {
   "cell_type": "code",
   "execution_count": 19,
   "id": "4b4634b4",
   "metadata": {},
   "outputs": [
    {
     "data": {
      "text/plain": [
       "{'theta': array([1.76991355, 2.05801683, 2.91954762, 0.36310786, 2.13807348,\n",
       "        0.13350814, 0.14914708, 1.80044851, 1.22909647, 1.34803074,\n",
       "        0.76451824, 1.94553461, 1.75936509, 2.41421509, 2.07607372,\n",
       "        1.61778627, 1.85567974, 0.50294934, 2.30962111, 2.39638866,\n",
       "        2.48629986, 0.47479812, 2.00235009, 1.6915246 , 0.96435767,\n",
       "        3.12030706, 2.8013975 , 0.68740683, 0.72475913, 1.93048055,\n",
       "        2.07170706, 1.4086688 , 1.01005782, 1.19586849, 2.15929965,\n",
       "        1.03349724, 0.68075783, 1.15927792, 1.06232637, 2.95625924,\n",
       "        2.62088836, 1.59304979, 2.31093314, 2.0282429 , 2.51488535,\n",
       "        1.06303385, 1.66708362, 1.25534189, 2.75040477, 1.06105347,\n",
       "        1.28390624, 0.33710783, 1.77239759, 2.59329138, 2.41250699,\n",
       "        1.33015544, 1.61205289, 2.59725968, 2.73926278, 1.99215806,\n",
       "        1.77032325, 1.27998324, 0.90121408, 1.6047791 , 1.44606026,\n",
       "        0.35365856, 2.5707863 , 1.82001596, 1.20023577, 2.74452078]),\n",
       " 'phi': array([0.46704621, 1.59123051, 4.79567243, 5.92281994, 5.83941256,\n",
       "        0.38216135, 1.47317027, 1.47142223, 1.84913591, 4.19747809,\n",
       "        3.09533134, 5.16920308, 0.40320105, 2.71462825, 6.11063028,\n",
       "        4.17475416, 5.71259386, 2.21495983, 5.22220522, 5.67225779,\n",
       "        2.55967498, 1.36482114, 4.50198624, 5.53279821, 1.95459023,\n",
       "        3.53344548, 1.0137762 , 1.97867013, 3.64003541, 1.62657197,\n",
       "        1.58396826, 5.7676442 , 2.41468242, 3.6419372 , 6.03682583,\n",
       "        0.72792047, 2.89598864, 0.52709452, 2.34051349, 4.23127676,\n",
       "        4.68853934, 1.84136904, 5.7556482 , 2.08390638, 3.22785358,\n",
       "        3.1276738 , 0.28235717, 0.8043901 , 2.06824322, 0.0865279 ,\n",
       "        2.77749255, 3.16603977, 0.42487252, 2.62155807, 5.83753287,\n",
       "        0.85707079, 5.79007615, 1.43470142, 0.03803634, 1.11253578,\n",
       "        4.34472226, 5.4545582 , 5.49169538, 3.32650965, 4.25044225,\n",
       "        1.53499405, 1.50310688, 4.12492652, 6.18997703, 5.94710055]),\n",
       " 'chi': array([0., 0., 0., 0., 0., 0., 0., 0., 0., 0., 0., 0., 0., 0., 0., 0., 0.,\n",
       "        0., 0., 0., 0., 0., 0., 0., 0., 0., 0., 0., 0., 0., 0., 0., 0., 0.,\n",
       "        0., 0., 0., 0., 0., 0., 0., 0., 0., 0., 0., 0., 0., 0., 0., 0., 0.,\n",
       "        0., 0., 0., 0., 0., 0., 0., 0., 0., 0., 0., 0., 0., 0., 0., 0., 0.,\n",
       "        0., 0.])}"
      ]
     },
     "execution_count": 19,
     "metadata": {},
     "output_type": "execute_result"
    }
   ],
   "source": [
    " "
   ]
  },
  {
   "cell_type": "code",
   "execution_count": null,
   "id": "d5c79ea8",
   "metadata": {},
   "outputs": [],
   "source": []
  }
 ],
 "metadata": {
  "kernelspec": {
   "display_name": "Python 3 (ipykernel)",
   "language": "python",
   "name": "python3"
  },
  "language_info": {
   "codemirror_mode": {
    "name": "ipython",
    "version": 3
   },
   "file_extension": ".py",
   "mimetype": "text/x-python",
   "name": "python",
   "nbconvert_exporter": "python",
   "pygments_lexer": "ipython3",
   "version": "3.8.10"
  }
 },
 "nbformat": 4,
 "nbformat_minor": 5
}
