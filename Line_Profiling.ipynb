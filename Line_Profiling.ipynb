{
 "cells": [
  {
   "cell_type": "code",
   "execution_count": 1,
   "id": "52ebb053",
   "metadata": {},
   "outputs": [],
   "source": [
    "%load_ext autoreload\n",
    "%autoreload 2\n",
    "%load_ext line_profiler"
   ]
  },
  {
   "cell_type": "code",
   "execution_count": 2,
   "id": "9d16e85c",
   "metadata": {},
   "outputs": [],
   "source": [
    "\n",
    "import numpy as np\n",
    "import os\n",
    "from locomatoptpy.sampling import SpiralSampling, UniformRandom, PoleRandom\n",
    "from locomatoptpy.metric import params_matrix\n",
    "from locomatoptpy.gradientdescent import GradDescent\n",
    "from locomatoptpy.adam import Adam\n",
    "from locomatoptpy.adagrad import AdaGrad\n",
    "from locomatoptpy.adadelta import AdaDelta\n",
    "from locomatoptpy.auglmethod import ALM\n",
    "from locomatoptpy.matrix import MatrixSH, MatrixWigner, MatrixSNF\n",
    "from locomatoptpy.metric import coherence\n",
    "from main_opt_coherence import coherence_optimization\n",
    "from numpy import linalg as LA\n",
    " \n",
    "\n",
    "\n",
    "\n",
    "############################ Parameters ################################\n",
    "## Bandwidth\n",
    "B = 10\n",
    "\n",
    "## Antenna or normal expansion\n",
    "case = 'normal'\n",
    "\n",
    "## Sphere or Rotation Group\n",
    "types = 'sh'\n",
    "## Generate dimension\n",
    "N, col_comb = params_matrix(types = types, B = B, case = case)\n",
    "## Generate sampling points\n",
    "m =  np.arange(17, N,4).astype(np.int64)  # Samples\n",
    " \n",
    "## Matrix Parameters\n",
    "params_mat = {'B':B, 'N':N, 'types':types, \n",
    "              'col_comb':col_comb, 'case':case}\n",
    "p = 9\n",
    "## Gradient Parameters\n",
    "params_grad = {'max_iter':  500 , 'eps': 1e-6, \n",
    "               'update': 'fix_theta', 'p_norm': p}\n",
    "\n",
    " \n",
    "\n",
    "## Path\n",
    "folder = os.path.join('results/', case, types)\n",
    "path = os.path.join(os.getcwd(),folder)\n",
    "filename = types + '_' + case + '_' + params_grad['update'] + '_alm'\n"
   ]
  },
  {
   "cell_type": "code",
   "execution_count": 3,
   "id": "b245ee1d",
   "metadata": {},
   "outputs": [],
   "source": [
    "#total_result = coherence_optimization(m=m,params_mat=params_mat,params_grad=params_grad)\n"
   ]
  },
  {
   "cell_type": "code",
   "execution_count": 4,
   "id": "6ec073a3",
   "metadata": {},
   "outputs": [
    {
     "name": "stdout",
     "output_type": "stream",
     "text": [
      "*** KeyboardInterrupt exception caught in code being profiled."
     ]
    }
   ],
   "source": [
    "%lprun -f coherence_optimization -f GradDescent.run_algo -f ALM.run_algo coherence_optimization(m=m,params_mat=params_mat,params_grad=params_grad)\n"
   ]
  },
  {
   "cell_type": "code",
   "execution_count": 5,
   "id": "5d231995",
   "metadata": {},
   "outputs": [],
   "source": [
    "import numexpr as ne"
   ]
  },
  {
   "cell_type": "code",
   "execution_count": null,
   "id": "f1a32116",
   "metadata": {},
   "outputs": [],
   "source": []
  }
 ],
 "metadata": {
  "kernelspec": {
   "display_name": "Python 3 (ipykernel)",
   "language": "python",
   "name": "python3"
  },
  "language_info": {
   "codemirror_mode": {
    "name": "ipython",
    "version": 3
   },
   "file_extension": ".py",
   "mimetype": "text/x-python",
   "name": "python",
   "nbconvert_exporter": "python",
   "pygments_lexer": "ipython3",
   "version": "3.8.10"
  }
 },
 "nbformat": 4,
 "nbformat_minor": 5
}
